{
 "cells": [
  {
   "cell_type": "code",
   "execution_count": null,
   "metadata": {},
   "outputs": [],
   "source": []
  },
  {
   "cell_type": "code",
   "execution_count": 17,
   "metadata": {},
   "outputs": [
    {
     "ename": "ImportError",
     "evalue": "cannot import name 'AzureOpenAIEmbeddings' from 'langchain.embeddings.openai' (/Users/yigityavuzyildiz/anaconda3/envs/condaenv1/lib/python3.11/site-packages/langchain/embeddings/openai.py)",
     "output_type": "error",
     "traceback": [
      "\u001b[0;31m---------------------------------------------------------------------------\u001b[0m",
      "\u001b[0;31mImportError\u001b[0m                               Traceback (most recent call last)",
      "Cell \u001b[0;32mIn[17], line 3\u001b[0m\n\u001b[1;32m      1\u001b[0m \u001b[38;5;28;01mfrom\u001b[39;00m \u001b[38;5;21;01mapi_keys\u001b[39;00m \u001b[38;5;28;01mimport\u001b[39;00m OPENAI_AZURE_KEY_GPT3, OPENAI_AZURE_KEY_GPT4, OPENAI_GPT3_API_BASE, OPENAI_GPT4_API_BASE, OPENAI_API_KEY\n\u001b[1;32m      2\u001b[0m \u001b[38;5;28;01mfrom\u001b[39;00m \u001b[38;5;21;01mlangchain\u001b[39;00m\u001b[38;5;21;01m.\u001b[39;00m\u001b[38;5;21;01mvectorstores\u001b[39;00m \u001b[38;5;28;01mimport\u001b[39;00m FAISS\n\u001b[0;32m----> 3\u001b[0m \u001b[38;5;28;01mfrom\u001b[39;00m \u001b[38;5;21;01mlangchain\u001b[39;00m\u001b[38;5;21;01m.\u001b[39;00m\u001b[38;5;21;01membeddings\u001b[39;00m\u001b[38;5;21;01m.\u001b[39;00m\u001b[38;5;21;01mopenai\u001b[39;00m \u001b[38;5;28;01mimport\u001b[39;00m AzureOpenAIEmbeddings\n\u001b[1;32m      4\u001b[0m \u001b[38;5;28;01mfrom\u001b[39;00m \u001b[38;5;21;01mlangchain\u001b[39;00m\u001b[38;5;21;01m.\u001b[39;00m\u001b[38;5;21;01mchains\u001b[39;00m\u001b[38;5;21;01m.\u001b[39;00m\u001b[38;5;21;01mquestion_answering\u001b[39;00m \u001b[38;5;28;01mimport\u001b[39;00m load_qa_chain\n\u001b[1;32m      5\u001b[0m \u001b[38;5;28;01mfrom\u001b[39;00m \u001b[38;5;21;01mlangchain\u001b[39;00m\u001b[38;5;21;01m.\u001b[39;00m\u001b[38;5;21;01mcallbacks\u001b[39;00m \u001b[38;5;28;01mimport\u001b[39;00m get_openai_callback\n",
      "\u001b[0;31mImportError\u001b[0m: cannot import name 'AzureOpenAIEmbeddings' from 'langchain.embeddings.openai' (/Users/yigityavuzyildiz/anaconda3/envs/condaenv1/lib/python3.11/site-packages/langchain/embeddings/openai.py)"
     ]
    }
   ],
   "source": [
    "from api_keys import OPENAI_AZURE_KEY_GPT3, OPENAI_AZURE_KEY_GPT4, OPENAI_GPT3_API_BASE, OPENAI_GPT4_API_BASE, OPENAI_API_KEY\n",
    "from langchain.vectorstores import FAISS\n",
    "from langchain.embeddings.openai import OpenAIEmbeddings\n",
    "from langchain.chains.question_answering import load_qa_chain\n",
    "from langchain.callbacks import get_openai_callback\n",
    "from langchain.chat_models import ChatOpenAI, AzureChatOpenAI\n",
    "\n",
    "\n",
    "\n",
    "embeddings = OpenAIEmbeddings(\n",
    "                deployment=\"embeddings\",\n",
    "                model=\"text-embedding-ada-002\",\n",
    "                openai_api_base=OPENAI_GPT3_API_BASE,\n",
    "                openai_api_type=\"azure\",\n",
    "                openai_api_key=OPENAI_AZURE_KEY_GPT3,\n",
    "                chunk_size=1)\n",
    "\n",
    "\n",
    "llm = AzureChatOpenAI(\n",
    "    deployment_name=\"35-turbo-deployment\",\n",
    "    openai_api_version=\"2023-03-15-preview\",\n",
    "    openai_api_base=OPENAI_GPT3_API_BASE,\n",
    "    openai_api_key=OPENAI_AZURE_KEY_GPT3,\n",
    "    openai_api_type=\"azure\",\n",
    "    model=\"gpt-35-turbo\",\n",
    ")"
   ]
  },
  {
   "cell_type": "code",
   "execution_count": 8,
   "metadata": {},
   "outputs": [],
   "source": [
    "from langchain.document_loaders import PyPDFDirectoryLoader\n",
    "loader = PyPDFDirectoryLoader(\"/Users/yigityavuzyildiz/Desktop/embedding_project/\")\n",
    "docs = loader.load()"
   ]
  },
  {
   "cell_type": "code",
   "execution_count": 9,
   "metadata": {},
   "outputs": [
    {
     "data": {
      "text/plain": [
       "'GİRİŞ Satış noktaları, aşağıdakileri yapmak zorundadır: • Kullanılmış akülerinizi iade almak • İade edilen aküleri uygun bir yerde saklamak • İade edilen aküleri geri dönüşüm için akü üreticisine göndermek 921 14497_T4S_STG_V_SM 22/05/2023 4 '"
      ]
     },
     "execution_count": 9,
     "metadata": {},
     "output_type": "execute_result"
    }
   ],
   "source": [
    "docs[9].page_content.replace(\"\\n\",\" \")"
   ]
  },
  {
   "cell_type": "code",
   "execution_count": 10,
   "metadata": {},
   "outputs": [
    {
     "data": {
      "text/plain": [
       "'GİRİŞ\\nSatış\\nnoktaları,\\naşağıdakileri\\nyapmak\\nzorundadır:\\n•\\nKullanılmış\\nakülerinizi\\niade\\nalmak\\n•\\nİade\\nedilen\\naküleri\\nuygun\\nbir\\nyerde\\nsaklamak\\n•\\nİade\\nedilen\\naküleri\\ngeri\\ndönüşüm\\niçin\\nakü\\nüreticisine\\ngöndermek\\n921\\n14497_T4S_STG_V_SM\\n22/05/2023\\n4\\n'"
      ]
     },
     "execution_count": 10,
     "metadata": {},
     "output_type": "execute_result"
    }
   ],
   "source": [
    "docs[9].page_content"
   ]
  },
  {
   "cell_type": "code",
   "execution_count": 11,
   "metadata": {},
   "outputs": [],
   "source": [
    "pages_traktor = []\n",
    "for a in docs:\n",
    "    pages_traktor.append(a.page_content.replace(\"\\n\",\" \"))"
   ]
  },
  {
   "cell_type": "code",
   "execution_count": 12,
   "metadata": {},
   "outputs": [
    {
     "data": {
      "text/plain": [
       "2392"
      ]
     },
     "execution_count": 12,
     "metadata": {},
     "output_type": "execute_result"
    }
   ],
   "source": [
    "len(pages_traktor)"
   ]
  },
  {
   "cell_type": "code",
   "execution_count": 16,
   "metadata": {},
   "outputs": [
    {
     "ename": "NotFoundError",
     "evalue": "Error code: 404 - {'error': {'code': '404', 'message': 'Resource not found'}}",
     "output_type": "error",
     "traceback": [
      "\u001b[0;31m---------------------------------------------------------------------------\u001b[0m",
      "\u001b[0;31mNotFoundError\u001b[0m                             Traceback (most recent call last)",
      "Cell \u001b[0;32mIn[16], line 1\u001b[0m\n\u001b[0;32m----> 1\u001b[0m faiss_index \u001b[38;5;241m=\u001b[39m FAISS\u001b[38;5;241m.\u001b[39mfrom_texts(pages_traktor, embeddings)\n",
      "File \u001b[0;32m~/anaconda3/envs/condaenv1/lib/python3.11/site-packages/langchain_community/vectorstores/faiss.py:959\u001b[0m, in \u001b[0;36mFAISS.from_texts\u001b[0;34m(cls, texts, embedding, metadatas, ids, **kwargs)\u001b[0m\n\u001b[1;32m    932\u001b[0m \u001b[38;5;129m@classmethod\u001b[39m\n\u001b[1;32m    933\u001b[0m \u001b[38;5;28;01mdef\u001b[39;00m \u001b[38;5;21mfrom_texts\u001b[39m(\n\u001b[1;32m    934\u001b[0m     \u001b[38;5;28mcls\u001b[39m,\n\u001b[0;32m   (...)\u001b[0m\n\u001b[1;32m    939\u001b[0m     \u001b[38;5;241m*\u001b[39m\u001b[38;5;241m*\u001b[39mkwargs: Any,\n\u001b[1;32m    940\u001b[0m ) \u001b[38;5;241m-\u001b[39m\u001b[38;5;241m>\u001b[39m FAISS:\n\u001b[1;32m    941\u001b[0m \u001b[38;5;250m    \u001b[39m\u001b[38;5;124;03m\"\"\"Construct FAISS wrapper from raw documents.\u001b[39;00m\n\u001b[1;32m    942\u001b[0m \n\u001b[1;32m    943\u001b[0m \u001b[38;5;124;03m    This is a user friendly interface that:\u001b[39;00m\n\u001b[0;32m   (...)\u001b[0m\n\u001b[1;32m    957\u001b[0m \u001b[38;5;124;03m            faiss = FAISS.from_texts(texts, embeddings)\u001b[39;00m\n\u001b[1;32m    958\u001b[0m \u001b[38;5;124;03m    \"\"\"\u001b[39;00m\n\u001b[0;32m--> 959\u001b[0m     embeddings \u001b[38;5;241m=\u001b[39m embedding\u001b[38;5;241m.\u001b[39membed_documents(texts)\n\u001b[1;32m    960\u001b[0m     \u001b[38;5;28;01mreturn\u001b[39;00m \u001b[38;5;28mcls\u001b[39m\u001b[38;5;241m.\u001b[39m__from(\n\u001b[1;32m    961\u001b[0m         texts,\n\u001b[1;32m    962\u001b[0m         embeddings,\n\u001b[0;32m   (...)\u001b[0m\n\u001b[1;32m    966\u001b[0m         \u001b[38;5;241m*\u001b[39m\u001b[38;5;241m*\u001b[39mkwargs,\n\u001b[1;32m    967\u001b[0m     )\n",
      "File \u001b[0;32m~/anaconda3/envs/condaenv1/lib/python3.11/site-packages/langchain_community/embeddings/openai.py:668\u001b[0m, in \u001b[0;36mOpenAIEmbeddings.embed_documents\u001b[0;34m(self, texts, chunk_size)\u001b[0m\n\u001b[1;32m    665\u001b[0m \u001b[38;5;66;03m# NOTE: to keep things simple, we assume the list may contain texts longer\u001b[39;00m\n\u001b[1;32m    666\u001b[0m \u001b[38;5;66;03m#       than the maximum context and use length-safe embedding function.\u001b[39;00m\n\u001b[1;32m    667\u001b[0m engine \u001b[38;5;241m=\u001b[39m cast(\u001b[38;5;28mstr\u001b[39m, \u001b[38;5;28mself\u001b[39m\u001b[38;5;241m.\u001b[39mdeployment)\n\u001b[0;32m--> 668\u001b[0m \u001b[38;5;28;01mreturn\u001b[39;00m \u001b[38;5;28mself\u001b[39m\u001b[38;5;241m.\u001b[39m_get_len_safe_embeddings(texts, engine\u001b[38;5;241m=\u001b[39mengine)\n",
      "File \u001b[0;32m~/anaconda3/envs/condaenv1/lib/python3.11/site-packages/langchain_community/embeddings/openai.py:494\u001b[0m, in \u001b[0;36mOpenAIEmbeddings._get_len_safe_embeddings\u001b[0;34m(self, texts, engine, chunk_size)\u001b[0m\n\u001b[1;32m    492\u001b[0m batched_embeddings: List[List[\u001b[38;5;28mfloat\u001b[39m]] \u001b[38;5;241m=\u001b[39m []\n\u001b[1;32m    493\u001b[0m \u001b[38;5;28;01mfor\u001b[39;00m i \u001b[38;5;129;01min\u001b[39;00m _iter:\n\u001b[0;32m--> 494\u001b[0m     response \u001b[38;5;241m=\u001b[39m embed_with_retry(\n\u001b[1;32m    495\u001b[0m         \u001b[38;5;28mself\u001b[39m,\n\u001b[1;32m    496\u001b[0m         \u001b[38;5;28minput\u001b[39m\u001b[38;5;241m=\u001b[39mtokens[i : i \u001b[38;5;241m+\u001b[39m _chunk_size],\n\u001b[1;32m    497\u001b[0m         \u001b[38;5;241m*\u001b[39m\u001b[38;5;241m*\u001b[39m\u001b[38;5;28mself\u001b[39m\u001b[38;5;241m.\u001b[39m_invocation_params,\n\u001b[1;32m    498\u001b[0m     )\n\u001b[1;32m    499\u001b[0m     \u001b[38;5;28;01mif\u001b[39;00m \u001b[38;5;129;01mnot\u001b[39;00m \u001b[38;5;28misinstance\u001b[39m(response, \u001b[38;5;28mdict\u001b[39m):\n\u001b[1;32m    500\u001b[0m         response \u001b[38;5;241m=\u001b[39m response\u001b[38;5;241m.\u001b[39mdict()\n",
      "File \u001b[0;32m~/anaconda3/envs/condaenv1/lib/python3.11/site-packages/langchain_community/embeddings/openai.py:116\u001b[0m, in \u001b[0;36membed_with_retry\u001b[0;34m(embeddings, **kwargs)\u001b[0m\n\u001b[1;32m    114\u001b[0m \u001b[38;5;250m\u001b[39m\u001b[38;5;124;03m\"\"\"Use tenacity to retry the embedding call.\"\"\"\u001b[39;00m\n\u001b[1;32m    115\u001b[0m \u001b[38;5;28;01mif\u001b[39;00m is_openai_v1():\n\u001b[0;32m--> 116\u001b[0m     \u001b[38;5;28;01mreturn\u001b[39;00m embeddings\u001b[38;5;241m.\u001b[39mclient\u001b[38;5;241m.\u001b[39mcreate(\u001b[38;5;241m*\u001b[39m\u001b[38;5;241m*\u001b[39mkwargs)\n\u001b[1;32m    117\u001b[0m retry_decorator \u001b[38;5;241m=\u001b[39m _create_retry_decorator(embeddings)\n\u001b[1;32m    119\u001b[0m \u001b[38;5;129m@retry_decorator\u001b[39m\n\u001b[1;32m    120\u001b[0m \u001b[38;5;28;01mdef\u001b[39;00m \u001b[38;5;21m_embed_with_retry\u001b[39m(\u001b[38;5;241m*\u001b[39m\u001b[38;5;241m*\u001b[39mkwargs: Any) \u001b[38;5;241m-\u001b[39m\u001b[38;5;241m>\u001b[39m Any:\n",
      "File \u001b[0;32m~/anaconda3/envs/condaenv1/lib/python3.11/site-packages/openai/resources/embeddings.py:113\u001b[0m, in \u001b[0;36mEmbeddings.create\u001b[0;34m(self, input, model, dimensions, encoding_format, user, extra_headers, extra_query, extra_body, timeout)\u001b[0m\n\u001b[1;32m    107\u001b[0m         embedding\u001b[38;5;241m.\u001b[39membedding \u001b[38;5;241m=\u001b[39m np\u001b[38;5;241m.\u001b[39mfrombuffer(  \u001b[38;5;66;03m# type: ignore[no-untyped-call]\u001b[39;00m\n\u001b[1;32m    108\u001b[0m             base64\u001b[38;5;241m.\u001b[39mb64decode(data), dtype\u001b[38;5;241m=\u001b[39m\u001b[38;5;124m\"\u001b[39m\u001b[38;5;124mfloat32\u001b[39m\u001b[38;5;124m\"\u001b[39m\n\u001b[1;32m    109\u001b[0m         )\u001b[38;5;241m.\u001b[39mtolist()\n\u001b[1;32m    111\u001b[0m     \u001b[38;5;28;01mreturn\u001b[39;00m obj\n\u001b[0;32m--> 113\u001b[0m \u001b[38;5;28;01mreturn\u001b[39;00m \u001b[38;5;28mself\u001b[39m\u001b[38;5;241m.\u001b[39m_post(\n\u001b[1;32m    114\u001b[0m     \u001b[38;5;124m\"\u001b[39m\u001b[38;5;124m/embeddings\u001b[39m\u001b[38;5;124m\"\u001b[39m,\n\u001b[1;32m    115\u001b[0m     body\u001b[38;5;241m=\u001b[39mmaybe_transform(params, embedding_create_params\u001b[38;5;241m.\u001b[39mEmbeddingCreateParams),\n\u001b[1;32m    116\u001b[0m     options\u001b[38;5;241m=\u001b[39mmake_request_options(\n\u001b[1;32m    117\u001b[0m         extra_headers\u001b[38;5;241m=\u001b[39mextra_headers,\n\u001b[1;32m    118\u001b[0m         extra_query\u001b[38;5;241m=\u001b[39mextra_query,\n\u001b[1;32m    119\u001b[0m         extra_body\u001b[38;5;241m=\u001b[39mextra_body,\n\u001b[1;32m    120\u001b[0m         timeout\u001b[38;5;241m=\u001b[39mtimeout,\n\u001b[1;32m    121\u001b[0m         post_parser\u001b[38;5;241m=\u001b[39mparser,\n\u001b[1;32m    122\u001b[0m     ),\n\u001b[1;32m    123\u001b[0m     cast_to\u001b[38;5;241m=\u001b[39mCreateEmbeddingResponse,\n\u001b[1;32m    124\u001b[0m )\n",
      "File \u001b[0;32m~/anaconda3/envs/condaenv1/lib/python3.11/site-packages/openai/_base_client.py:1200\u001b[0m, in \u001b[0;36mSyncAPIClient.post\u001b[0;34m(self, path, cast_to, body, options, files, stream, stream_cls)\u001b[0m\n\u001b[1;32m   1186\u001b[0m \u001b[38;5;28;01mdef\u001b[39;00m \u001b[38;5;21mpost\u001b[39m(\n\u001b[1;32m   1187\u001b[0m     \u001b[38;5;28mself\u001b[39m,\n\u001b[1;32m   1188\u001b[0m     path: \u001b[38;5;28mstr\u001b[39m,\n\u001b[0;32m   (...)\u001b[0m\n\u001b[1;32m   1195\u001b[0m     stream_cls: \u001b[38;5;28mtype\u001b[39m[_StreamT] \u001b[38;5;241m|\u001b[39m \u001b[38;5;28;01mNone\u001b[39;00m \u001b[38;5;241m=\u001b[39m \u001b[38;5;28;01mNone\u001b[39;00m,\n\u001b[1;32m   1196\u001b[0m ) \u001b[38;5;241m-\u001b[39m\u001b[38;5;241m>\u001b[39m ResponseT \u001b[38;5;241m|\u001b[39m _StreamT:\n\u001b[1;32m   1197\u001b[0m     opts \u001b[38;5;241m=\u001b[39m FinalRequestOptions\u001b[38;5;241m.\u001b[39mconstruct(\n\u001b[1;32m   1198\u001b[0m         method\u001b[38;5;241m=\u001b[39m\u001b[38;5;124m\"\u001b[39m\u001b[38;5;124mpost\u001b[39m\u001b[38;5;124m\"\u001b[39m, url\u001b[38;5;241m=\u001b[39mpath, json_data\u001b[38;5;241m=\u001b[39mbody, files\u001b[38;5;241m=\u001b[39mto_httpx_files(files), \u001b[38;5;241m*\u001b[39m\u001b[38;5;241m*\u001b[39moptions\n\u001b[1;32m   1199\u001b[0m     )\n\u001b[0;32m-> 1200\u001b[0m     \u001b[38;5;28;01mreturn\u001b[39;00m cast(ResponseT, \u001b[38;5;28mself\u001b[39m\u001b[38;5;241m.\u001b[39mrequest(cast_to, opts, stream\u001b[38;5;241m=\u001b[39mstream, stream_cls\u001b[38;5;241m=\u001b[39mstream_cls))\n",
      "File \u001b[0;32m~/anaconda3/envs/condaenv1/lib/python3.11/site-packages/openai/_base_client.py:889\u001b[0m, in \u001b[0;36mSyncAPIClient.request\u001b[0;34m(self, cast_to, options, remaining_retries, stream, stream_cls)\u001b[0m\n\u001b[1;32m    880\u001b[0m \u001b[38;5;28;01mdef\u001b[39;00m \u001b[38;5;21mrequest\u001b[39m(\n\u001b[1;32m    881\u001b[0m     \u001b[38;5;28mself\u001b[39m,\n\u001b[1;32m    882\u001b[0m     cast_to: Type[ResponseT],\n\u001b[0;32m   (...)\u001b[0m\n\u001b[1;32m    887\u001b[0m     stream_cls: \u001b[38;5;28mtype\u001b[39m[_StreamT] \u001b[38;5;241m|\u001b[39m \u001b[38;5;28;01mNone\u001b[39;00m \u001b[38;5;241m=\u001b[39m \u001b[38;5;28;01mNone\u001b[39;00m,\n\u001b[1;32m    888\u001b[0m ) \u001b[38;5;241m-\u001b[39m\u001b[38;5;241m>\u001b[39m ResponseT \u001b[38;5;241m|\u001b[39m _StreamT:\n\u001b[0;32m--> 889\u001b[0m     \u001b[38;5;28;01mreturn\u001b[39;00m \u001b[38;5;28mself\u001b[39m\u001b[38;5;241m.\u001b[39m_request(\n\u001b[1;32m    890\u001b[0m         cast_to\u001b[38;5;241m=\u001b[39mcast_to,\n\u001b[1;32m    891\u001b[0m         options\u001b[38;5;241m=\u001b[39moptions,\n\u001b[1;32m    892\u001b[0m         stream\u001b[38;5;241m=\u001b[39mstream,\n\u001b[1;32m    893\u001b[0m         stream_cls\u001b[38;5;241m=\u001b[39mstream_cls,\n\u001b[1;32m    894\u001b[0m         remaining_retries\u001b[38;5;241m=\u001b[39mremaining_retries,\n\u001b[1;32m    895\u001b[0m     )\n",
      "File \u001b[0;32m~/anaconda3/envs/condaenv1/lib/python3.11/site-packages/openai/_base_client.py:980\u001b[0m, in \u001b[0;36mSyncAPIClient._request\u001b[0;34m(self, cast_to, options, remaining_retries, stream, stream_cls)\u001b[0m\n\u001b[1;32m    977\u001b[0m         err\u001b[38;5;241m.\u001b[39mresponse\u001b[38;5;241m.\u001b[39mread()\n\u001b[1;32m    979\u001b[0m     log\u001b[38;5;241m.\u001b[39mdebug(\u001b[38;5;124m\"\u001b[39m\u001b[38;5;124mRe-raising status error\u001b[39m\u001b[38;5;124m\"\u001b[39m)\n\u001b[0;32m--> 980\u001b[0m     \u001b[38;5;28;01mraise\u001b[39;00m \u001b[38;5;28mself\u001b[39m\u001b[38;5;241m.\u001b[39m_make_status_error_from_response(err\u001b[38;5;241m.\u001b[39mresponse) \u001b[38;5;28;01mfrom\u001b[39;00m \u001b[38;5;28;01mNone\u001b[39;00m\n\u001b[1;32m    982\u001b[0m \u001b[38;5;28;01mreturn\u001b[39;00m \u001b[38;5;28mself\u001b[39m\u001b[38;5;241m.\u001b[39m_process_response(\n\u001b[1;32m    983\u001b[0m     cast_to\u001b[38;5;241m=\u001b[39mcast_to,\n\u001b[1;32m    984\u001b[0m     options\u001b[38;5;241m=\u001b[39moptions,\n\u001b[0;32m   (...)\u001b[0m\n\u001b[1;32m    987\u001b[0m     stream_cls\u001b[38;5;241m=\u001b[39mstream_cls,\n\u001b[1;32m    988\u001b[0m )\n",
      "\u001b[0;31mNotFoundError\u001b[0m: Error code: 404 - {'error': {'code': '404', 'message': 'Resource not found'}}"
     ]
    }
   ],
   "source": [
    "faiss_index = FAISS.from_texts(pages_traktor, embeddings)\n"
   ]
  },
  {
   "cell_type": "code",
   "execution_count": 23,
   "metadata": {},
   "outputs": [],
   "source": [
    "faiss_index.save_local('turktraktor_faiss')"
   ]
  },
  {
   "cell_type": "code",
   "execution_count": 2,
   "metadata": {},
   "outputs": [],
   "source": [
    "vectorstore = FAISS.load_local('turktraktor_faiss_deneme',embeddings)"
   ]
  },
  {
   "cell_type": "code",
   "execution_count": 3,
   "metadata": {},
   "outputs": [
    {
     "data": {
      "text/plain": [
       "[Document(page_content='GİRİŞ Önsöz - Ekipman bakımıyla ilgili önemli bildirim [108498409 - V2 - 1 1 April 2021] Bu tamir kitabında listelenen tüm tamir ve bakım işleri yalnızca kalifiye yetkili servis personeli tarafından, verilen tali- matlar sıkı bir şekilde uygulanarak ve mümkün olduğunca özel takımlar kullanılarak gerçekleştirilmelidir . T amir ve bakım işlerini burada verilen talimatlara uymadan gerçekleştiren kişiler , sonrasında meydana gelecek ha- sarlardan sorumludurlar . T ahdit edici olmaksızın, ulusal, bölgesel ve yerel satıcılar da dahil olmak üzere, üretici ve dağıtım zincirindeki tüm organizasyonlar; üretici tarafından üretilen veya satılan ürünün tamiri veya bakımı için kullanılanlar dahil, üreticinin kendisi tarafından onaylanmamış parçalardan ve/veya unsurlardan doğan herhangi bir hasarın sorumluluğunu red- dederler . Her durumda, üretici tarafından onaylanmayan parçalardan ve/veya unsurlardan dolayı hasar oluşması durumunda, üretici tarafından üretilen veya satılan ürüne herhangi bir garanti verilmemektedir . Üretici, daha önceden satılmış olan ürünlere takma zorunluluğu olmaksızın ve bildirimde bulunmaksızın herhangi bir anda tasarımda iyileştirme ya da özelliklerde değişiklik yapma hakkını saklı tutmaktadır . İşbu T amir Kitabındaki özellikler , tanımlar ve çizim malzemeleri yayımlandığı tarihte doğru olup, bildirimde bulunmaksızın değişime tabidir . Sorularınız olması durumunda, NEW HOLLAND satış ve Servis Ağlarına başvurunuz. TR6_DRAFT_29-08-2022-DRAFT 29/08/2022 3 '),\n",
       " Document(page_content=\"GİRİŞ Önsöz - Bu tamir kitabını nasıl kullanırsınız ve hareket edersiniz [108498584 - V1 - 24 April 2021] Bu tamir kitabı yeni bir teknik bilgi sistemi ile hazırlanmıştır . Bu yeni sistem, teknik bilgileri elektronik yolla İnternet (eTIM), DVD üzerinden ve kağıt şeklinde tamir kitabı olarak iletmek üzere tasarlanmıştır . Örneğin Garanti gibi, teknik bilgileri, diğer Ürün Destek işlevleriyle bağlantılandırmak için SAP olarak adlandırılan bir kodlama sistemi geliştirilmiş- tir . T eknik bilgiler , müşterinin sahip olduğu makinedeki sistemler veya işlevlerin bakımı ve servisini desteklemek için ya- zılmıştır . Bir müşterinin makinesiyle ilgili endişeleri varsa, bu durum genellikle, makinesindeki bir sistem veya işlev hiç çalışmadığından, etkili bir şekilde çalışmadığından veya komutlarına doğru tepkiler vermediğinden ötürüdür . Müşte- rinin endişesini gidermek için bu tamir kitabındaki teknik bilgilere başvurduğunuzda, o makinede bulunan sistemler veya işlevlere göre sınıflandırılmış tüm bilgileri SAP kodlarını kullanarak bulacaksınız. İşlev veya sistemle ilgili teknik bilgileri bulduğunuzda, söz konusu işlev veya sistem için tüm mekanik, elektrik veya hidrolik parçaları, bileşenleri, kompleleri ve alt kompleleri bulacaksınız. A ynı zamanda bu işlev veya sistem için yazılmış tüm bilgi çeşitlerini, yani, teknik verileri (özellikler), işlevsel verileri (nasıl çalıştığı), tanılama verilerini (arıza kodları ve arıza bulma, giderme) ve servis bilgilerini (sökülmesi, takılması, ayarlanması, vb.) bulacaksınız. Bu SAP kodlarını teknik bilgilerle birleştirerek, müşterinin makinesi hakkındaki endişesini çözmeniz için gereken doğru teknik bilgiyi arayıp bulabileceksiniz. Bu durum, oluşturma süreci sırasında her bir teknik bilgi parçasına 3 kategori ekleyerek mümkün kılınmıştır . İlk kategori Y er'dir , ikinci kategori Bilgi T ipi'dir ve üçüncü kategori ise Ürün'dür: • YER - teknik bilgi parçasının açıklayacağı, makinede bulunan (örneğin Y akıt deposu gibi) parça veya işlevdir . • BİLGİ TİPİ - makinedeki belli başlı bir bileşen veya işlev için yazılmış teknik bilgi parçasıdır , (örneğin; Kapasite, Y akıt deposu tarafından tutulan yakıt miktarını açıklayan bir T eknik V eri'dir). • ÜRÜN - teknik bilginin yazıldığı ürünün modelidir . T eknik bilgilerin her bir parçası, ona eklenmiş bu üç kategoriye sahip olacaktır . Müşterilerin makineleri hakkındaki endişelerini gidermeniz için gerekli olan doğru teknik bilgi parçasını bulmak üzere, bu kategorilerin herhangi bir kom- binasyonunu kullanabileceksiniz. Bu bilgiler şu şekilde olabilir: • silindir kapağının sökülme işlemi • bir hidrolik pompa için özellikler ve teknik veriler tablosu • bir arıza kodu • bir arıza bulma ve giderme tablosu • özel bir takım TR6_DRAFT_29-08-2022-DRAFT 29/08/2022 4 \"),\n",
       " Document(page_content='Şasiler ve balast - Şasi 6. Ön dingil ve ön şasi arasına tahta kamalar yerleştiriniz. Bunlar dingilin dönmesini önler . BAIL07APH285A V A 6 7. Ön çamurlukları sökünüz. BAIL13TR00741AA 7 8. • Diferansiyel kilidi borularını ayırınız. • Dümenleme borularının bağlantısını ayırınız. BAIL14TR00908AB 8 9. Elektrik konnektörlerinin bağlantısını ayırınız. BAIL13TR00743AB 9 TR6_DRAFT_29-08-2022-DRAFT 29/08/2022 39.1 [39.100] / 7 '),\n",
       " Document(page_content='Elektrik sistemleri - HA T A KODLARI A. Eğer şasiye kısa devre varsa, kablo demetini gerektiği şekilde onarınız veya değiştiriniz. B. Eğer kablo demeti iyi durumdaysa, doğru yazılım sürümünü yükleyiniz. C. Eğer arıza tekrar meydana gelirse, kumanda ünitesini sökünüz ve değiştiriniz. TR6_DRAFT_29-08-2022-DRAFT 29/08/2022 55.35 [55.DTC] / 1635 ')]"
      ]
     },
     "execution_count": 3,
     "metadata": {},
     "output_type": "execute_result"
    }
   ],
   "source": [
    "vectorstore.similarity_search('şasiyi nasıl tamir ederim?')"
   ]
  },
  {
   "cell_type": "code",
   "execution_count": null,
   "metadata": {},
   "outputs": [],
   "source": []
  }
 ],
 "metadata": {
  "kernelspec": {
   "display_name": "turktraktor-venv",
   "language": "python",
   "name": "python3"
  },
  "language_info": {
   "codemirror_mode": {
    "name": "ipython",
    "version": 3
   },
   "file_extension": ".py",
   "mimetype": "text/x-python",
   "name": "python",
   "nbconvert_exporter": "python",
   "pygments_lexer": "ipython3",
   "version": "3.11.7"
  }
 },
 "nbformat": 4,
 "nbformat_minor": 2
}
